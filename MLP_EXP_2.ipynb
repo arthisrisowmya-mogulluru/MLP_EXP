{
  "nbformat": 4,
  "nbformat_minor": 0,
  "metadata": {
    "colab": {
      "provenance": []
    },
    "kernelspec": {
      "name": "python3",
      "display_name": "Python 3"
    },
    "language_info": {
      "name": "python"
    }
  },
  "cells": [
    {
      "cell_type": "markdown",
      "source": [
        "Program to find minimum & maximum elements of the matrix, trace, rank,\n",
        "eigenvalues, and eigenvectors of the given matrix"
      ],
      "metadata": {
        "id": "z0PEOA2iRaO9"
      }
    },
    {
      "cell_type": "markdown",
      "source": [
        "Importing numpy Library"
      ],
      "metadata": {
        "id": "Y0kYZY_G-ckp"
      }
    },
    {
      "cell_type": "code",
      "execution_count": null,
      "metadata": {
        "id": "IBNNc-ZjRYbI"
      },
      "outputs": [],
      "source": [
        "import numpy as np"
      ]
    },
    {
      "cell_type": "markdown",
      "source": [
        "Defining a function matrix_operations which takes matrix as an argument, outputs trace, rank, eigen values and eigen vectors of the given matrix."
      ],
      "metadata": {
        "id": "k-8Dpi3Q-iQK"
      }
    },
    {
      "cell_type": "code",
      "source": [
        "def matrix_operations(matrix):\n",
        " #Min and Max elements of the matrix\n",
        " min_element = np.min(matrix)\n",
        " max_element = np.max(matrix)\n",
        " print(\"Minimum element:\", min_element)\n",
        " print(\"Maximum element:\", max_element)\n",
        " #Trace of the matrix\n",
        " trace = np.trace(matrix)\n",
        " print(\"Trace:\", trace)\n",
        " #Rank of the matrix\n",
        " rank = np.linalg.matrix_rank(matrix)\n",
        " print(\"Rank:\", rank)\n",
        " #Eigen Values and Eigen Vectors\n",
        " eigenvalues, eigenvectors = np.linalg.eig(matrix)\n",
        " print(\"Eigenvalues:\", eigenvalues)\n",
        " print(\"Eigenvectors:\", eigenvectors)\n"
      ],
      "metadata": {
        "id": "2ITks2eP-Snd"
      },
      "execution_count": null,
      "outputs": []
    },
    {
      "cell_type": "markdown",
      "source": [
        "Creating and Passing a matrix as the argument"
      ],
      "metadata": {
        "id": "Wg3QUK7a_b11"
      }
    },
    {
      "cell_type": "code",
      "source": [
        "matrix = np.array([[1, 2, 3], [4, 5, 6], [7, 8, 9]])\n",
        "matrix_operations(matrix)"
      ],
      "metadata": {
        "colab": {
          "base_uri": "https://localhost:8080/"
        },
        "id": "69QyKw7F-ScL",
        "outputId": "6fc15808-38ac-41b8-ff45-888dba714b15"
      },
      "execution_count": null,
      "outputs": [
        {
          "output_type": "stream",
          "name": "stdout",
          "text": [
            "Minimum element: 1\n",
            "Maximum element: 9\n",
            "Trace: 15\n",
            "Rank: 2\n",
            "Eigenvalues: [ 1.61168440e+01 -1.11684397e+00 -1.30367773e-15]\n",
            "Eigenvectors: [[-0.23197069 -0.78583024  0.40824829]\n",
            " [-0.52532209 -0.08675134 -0.81649658]\n",
            " [-0.8186735   0.61232756  0.40824829]]\n"
          ]
        }
      ]
    }
  ]
}